{
 "cells": [
  {
   "cell_type": "code",
   "execution_count": null,
   "metadata": {},
   "outputs": [],
   "source": [
    "from app import *"
   ]
  },
  {
   "cell_type": "code",
   "execution_count": null,
   "metadata": {},
   "outputs": [],
   "source": [
    "pdf_object.raw_text.replace(\"\\n\", \" \")"
   ]
  },
  {
   "cell_type": "code",
   "execution_count": null,
   "metadata": {},
   "outputs": [],
   "source": [
    "import glob\n",
    "from pathlib import Path\n",
    "pdf_files = glob.glob('data/raw_pdf/*.pdf')\n",
    "pdf_lang = \"fra\"\n",
    "for pdf in pdf_files:\n",
    "    print(\"Processing PDF: \", pdf, \" ...\")\n",
    "    pdf_object = TextReport(file_obj=open(pdf, \"rb\"), lang=pdf_lang)\n",
    "    pdf_object.pdf_to_text()\n",
    "    output_path = Path(\"data/raw_text/\" + Path(pdf).stem + \".txt\")\n",
    "    with open(output_path, \"w\") as text_file:\n",
    "        text = pdf_object.raw_text.replace(\"\\n\", \" \")\n",
    "        text_file.write(text)"
   ]
  },
  {
   "cell_type": "code",
   "execution_count": null,
   "metadata": {},
   "outputs": [],
   "source": [
    "pdf_files = glob.glob('data/raw_text/*.txt')\n",
    "for pdf in pdf_files:\n",
    "    print((Path(pdf).name))"
   ]
  }
 ],
 "metadata": {
  "kernelspec": {
   "display_name": "Python 3.9.12 ('nlmyo-tSOHg3KH-py3.9')",
   "language": "python",
   "name": "python3"
  },
  "language_info": {
   "codemirror_mode": {
    "name": "ipython",
    "version": 3
   },
   "file_extension": ".py",
   "mimetype": "text/x-python",
   "name": "python",
   "nbconvert_exporter": "python",
   "pygments_lexer": "ipython3",
   "version": "3.9.12"
  },
  "orig_nbformat": 4,
  "vscode": {
   "interpreter": {
    "hash": "b3f44ddbfaf79e3c67e553fe00707525b59f1bf2669b1ed0d57165e8fa5ff0fc"
   }
  }
 },
 "nbformat": 4,
 "nbformat_minor": 2
}
