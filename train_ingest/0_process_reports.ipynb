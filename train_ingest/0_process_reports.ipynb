{
 "cells": [
  {
   "cell_type": "code",
   "execution_count": null,
   "metadata": {},
   "outputs": [],
   "source": [
    "# Listers les PDFs raw_pdf/\n",
    "# Convertir les PDF en texte raw_text/\n",
    "# Retirer la conclusions dans processed/\n",
    "# Faire de CSV contenant toute les info dans processed/\n",
    "# Appli pigeon pour annotation à partir de chaque raw_text qui ajoute le label"
   ]
  }
 ],
 "metadata": {
  "language_info": {
   "name": "python"
  },
  "orig_nbformat": 4
 },
 "nbformat": 4,
 "nbformat_minor": 2
}
